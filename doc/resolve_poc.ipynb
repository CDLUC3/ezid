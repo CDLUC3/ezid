{
 "cells": [
  {
   "cell_type": "markdown",
   "source": [
    "Simple proof of concept for resolve.\n",
    "\n",
    "Test time taken to perform iterative search on progressively shorter\n",
    "identifier strings to simulate resolution of an identifier with suffix\n",
    "pass through."
   ],
   "metadata": {
    "collapsed": false
   }
  },
  {
   "cell_type": "code",
   "execution_count": 4,
   "outputs": [],
   "source": [
    "import pymysql.cursors\n",
    "\n",
    "def getLengthRange(identifier):\n",
    "    return 12,156\n",
    "\n",
    "def resolve(cn, identifier):\n",
    "    min_len, max_len = getLengthRange(identifier)\n",
    "    epos = max_len\n",
    "    if epos > len(identifier):\n",
    "        epos = len(identifier)\n",
    "    sql = 'select identifier, target from ezidapp_searchidentifier where identifier=%s'\n",
    "    with cn.cursor() as csr:\n",
    "        while epos >= min_len:\n",
    "            csr.execute(sql, identifier[:epos])\n",
    "            res = csr.fetchone()\n",
    "            if res is not None:\n",
    "                return res\n",
    "            epos = epos-1\n",
    "    return None\n"
   ],
   "metadata": {
    "collapsed": false,
    "pycharm": {
     "name": "#%%\n"
    }
   }
  },
  {
   "cell_type": "code",
   "source": [
    "import os\n",
    "import time\n",
    "import random\n",
    "import json\n",
    "\n",
    "def loadCreds():\n",
    "    with open(os.path.expanduser(\"~/.local/opt/ezid/stagecreds.json\")) as inf:\n",
    "        return json.load(inf)\n",
    "\n",
    "CHARS = list(map(chr, range(65, 91))) + list(map(chr, range(97, 123)))\n",
    "\n",
    "def randomStr(n):\n",
    "    s = ''\n",
    "    for i in range(0,n):\n",
    "        s += random.choice(CHARS)\n",
    "    return s\n",
    "\n",
    "creds = loadCreds()\n",
    "cn = pymysql.connect(\n",
    "    host='localhost',\n",
    "    database='ezid',\n",
    "    cursorclass=pymysql.cursors.DictCursor,\n",
    "    user=creds['user'],\n",
    "    password=creds['pass'])\n",
    "creds = None\n",
    "\n",
    "base_pid = \"ark:/13030/qt8n91c81t\"\n",
    "pids = []\n",
    "for i in range(50, 0, -1):\n",
    "    pid = base_pid+randomStr(i)\n",
    "    #print(pid)\n",
    "    pids.append(pid)\n",
    "\n",
    "results = []\n",
    "for pid in pids:\n",
    "    t0 = time.time()\n",
    "    res = resolve(cn, pid)\n",
    "    t1 = time.time()\n",
    "    dt = (t1-t0)*1000.0\n",
    "    results.append([len(pid), dt])\n",
    "    print(f\"{dt:0.2f}, {len(pid)}, {pid}\")"
   ],
   "metadata": {
    "collapsed": false,
    "pycharm": {
     "name": "#%%\n"
    }
   },
   "execution_count": 5,
   "outputs": [
    {
     "name": "stdout",
     "output_type": "stream",
     "text": [
      "5395.56, 71, ark:/13030/qt8n91c81tdynYZehqWuBUSmbBeOPohgkmojYnRgiUtPXUTplSPoSIzVrqyA\n",
      "5277.89, 70, ark:/13030/qt8n91c81tjpdXtprLDNYiDkYNsFOQDjUyMEtKtVIlyUQKBadwsawBjAenN\n",
      "5189.11, 69, ark:/13030/qt8n91c81tNTOcgUZVtAHzTTqcyvncaxDldbhzwpGwwHdgtOMneMmFHGJP\n",
      "5092.45, 68, ark:/13030/qt8n91c81tBlrzGyBwiTjiFBRaYJwOGxbNrGyIQLgWyEkCOLLiUEvWLTM\n",
      "4988.94, 67, ark:/13030/qt8n91c81tYAnxYVWyFmfWkGfcjyJcgAMOiREajwULFNJzdeqXEutIAA\n",
      "4926.95, 66, ark:/13030/qt8n91c81thJCTFGaSKhUUgKyjjPmKiuKxwpvVHJEAWBtirgOCvJFUo\n",
      "4768.23, 65, ark:/13030/qt8n91c81tWMbtzrooBYszXEuXyhzkbXPWpfnQpKaiQCvpmWYCsWZl\n",
      "4698.27, 64, ark:/13030/qt8n91c81tsYbtCdIjsUttmwfzXbgwJrFieMUlrMPwCwNDaZlFoPU\n",
      "4599.76, 63, ark:/13030/qt8n91c81tgCkdhVmoGtJICYWppGcQsjdaulsEaEBpDZUqMsXeDy\n",
      "4552.97, 62, ark:/13030/qt8n91c81tpQcOpAPOtFWgIFThobzpafSYBNMKLaJZvbNQwunKN\n",
      "4382.15, 61, ark:/13030/qt8n91c81tpxSFxRWDjhuHtjlAlFOnmCVNmpfeakDdoIAfjDDM\n",
      "4274.59, 60, ark:/13030/qt8n91c81tBPvyGwGVrtgXFWztreDgrRsczGYwvoRvnvGajcg\n",
      "4146.57, 59, ark:/13030/qt8n91c81tSLSHJwFuLYTtJQumiRVjgnMJKVdYtbwsJLQLyP\n",
      "4046.54, 58, ark:/13030/qt8n91c81tZLufCRhgkZQypgnmXtpBdNqeeriSfhrAFUiWH\n",
      "3939.15, 57, ark:/13030/qt8n91c81tBzdAOtikJHqIXCEreLdFwtHnndAzpBXyWbcD\n",
      "3848.10, 56, ark:/13030/qt8n91c81ttrrszYmFfkLiZBkLZAUNHtqTjkRnInZazPc\n",
      "3731.82, 55, ark:/13030/qt8n91c81tiPnZKlYMCrmjZJhRGizfhCfgLiYQkRayrI\n",
      "3616.61, 54, ark:/13030/qt8n91c81tdNZqdoTgDJUWpfAMbNQXAVjJVoQfwpQgk\n",
      "3492.91, 53, ark:/13030/qt8n91c81toOMvCOEZeHYfPjJOYgIHvajEumqcGgWn\n",
      "3538.12, 52, ark:/13030/qt8n91c81tRymNYRbPsabFyheKJDOTFVjqtfWakuX\n",
      "3364.90, 51, ark:/13030/qt8n91c81tjrfTqAjSMikAXTtcxYbQgyJyKPSOxe\n",
      "3220.47, 50, ark:/13030/qt8n91c81trvPqSBkauHVBlGJBxQgbCPjcHAxEH\n",
      "3118.05, 49, ark:/13030/qt8n91c81tjPXSvWdwLCrCqnbBAeeeBEjucgnY\n",
      "3053.60, 48, ark:/13030/qt8n91c81tTKisjYDOGaOSxawyKNhzXjxxnQG\n",
      "2875.60, 47, ark:/13030/qt8n91c81tiFZekHjJkVLteBsVJqqARgqOIL\n",
      "2785.30, 46, ark:/13030/qt8n91c81taCPOCKTQfaeNxrMYrTmPljPZa\n",
      "2619.59, 45, ark:/13030/qt8n91c81tztYcvUjyzXcHYoCsZmauKvMv\n",
      "2542.83, 44, ark:/13030/qt8n91c81tehpqUtZXCbiuHLHMXqjQNpJ\n",
      "2426.39, 43, ark:/13030/qt8n91c81tAzBYMIcnDXPziyiszCuXda\n",
      "2342.99, 42, ark:/13030/qt8n91c81tlzrxPUBnfLKsZdOZpqrMW\n",
      "2205.57, 41, ark:/13030/qt8n91c81tLYxXFcCleHFGRazQGwie\n",
      "2110.39, 40, ark:/13030/qt8n91c81tvWcCdSAmWZIFjFryNmc\n",
      "2007.43, 39, ark:/13030/qt8n91c81tVQRobfBDciqOlOnIud\n",
      "1881.33, 38, ark:/13030/qt8n91c81tEhxTxlXMWgTMUHGkN\n",
      "1816.51, 37, ark:/13030/qt8n91c81tsUEUXPnDqOQfyflw\n",
      "1680.16, 36, ark:/13030/qt8n91c81tChDvRAeESjyMeRa\n",
      "1579.50, 35, ark:/13030/qt8n91c81tFIVAqvXkwSnLhH\n",
      "1477.63, 34, ark:/13030/qt8n91c81tioPXxciuJEslC\n",
      "1371.39, 33, ark:/13030/qt8n91c81tAotLGQCOlrmJ\n",
      "1267.74, 32, ark:/13030/qt8n91c81tXHcdPeIDfuy\n",
      "1140.98, 31, ark:/13030/qt8n91c81ttsfzghNpFc\n",
      "1053.75, 30, ark:/13030/qt8n91c81tBqjSRTCLv\n",
      "934.78, 29, ark:/13030/qt8n91c81tDHuFTTXY\n",
      "841.40, 28, ark:/13030/qt8n91c81trPcBXew\n",
      "727.15, 27, ark:/13030/qt8n91c81touHDPk\n",
      "623.99, 26, ark:/13030/qt8n91c81tddlrJ\n",
      "529.01, 25, ark:/13030/qt8n91c81tuYuQ\n",
      "415.90, 24, ark:/13030/qt8n91c81tOVt\n",
      "313.88, 23, ark:/13030/qt8n91c81tmf\n",
      "212.36, 22, ark:/13030/qt8n91c81tM\n"
     ]
    }
   ]
  },
  {
   "cell_type": "markdown",
   "source": [
    "Not surprising really - slow and linear. Might get some better performance with\n",
    "a user defined procedure in MySQL."
   ],
   "metadata": {
    "collapsed": false
   }
  },
  {
   "cell_type": "code",
   "execution_count": 6,
   "outputs": [
    {
     "name": "stderr",
     "output_type": "stream",
     "text": [
      "/Users/vieglais/.virtualenvs/ezid3/lib/python3.9/site-packages/seaborn/_decorators.py:36: FutureWarning: Pass the following variables as keyword args: x, y. From version 0.12, the only valid positional argument will be `data`, and passing other arguments without an explicit keyword will result in an error or misinterpretation.\n",
      "  warnings.warn(\n"
     ]
    },
    {
     "data": {
      "text/plain": "<seaborn.axisgrid.FacetGrid at 0x139218640>"
     },
     "execution_count": 6,
     "metadata": {},
     "output_type": "execute_result"
    },
    {
     "data": {
      "text/plain": "<Figure size 360x360 with 1 Axes>",
      "image/png": "[encoded data removed]"
     },
     "metadata": {
      "needs_background": "light"
     },
     "output_type": "display_data"
    }
   ],
   "source": [
    "#import sys\n",
    "#!{sys.executable} -m pip install seaborn\n",
    "#!{sys.executable} -m pip install pandas\n",
    "%matplotlib inline\n",
    "\n",
    "import seaborn as sns\n",
    "import pandas as pd\n",
    "\n",
    "df = pd.DataFrame(results, columns=[\"n\",\"t\"])\n",
    "sns.lmplot(\"n\", \"t\", data=df)\n",
    "\n"
   ],
   "metadata": {
    "collapsed": false,
    "pycharm": {
     "name": "#%%\n"
    }
   }
  }
 ],
 "metadata": {
  "kernelspec": {
   "display_name": "Python 3",
   "language": "python",
   "name": "python3"
  },
  "language_info": {
   "codemirror_mode": {
    "name": "ipython",
    "version": 2
   },
   "file_extension": ".py",
   "mimetype": "text/x-python",
   "name": "python",
   "nbconvert_exporter": "python",
   "pygments_lexer": "ipython2",
   "version": "2.7.6"
  }
 },
 "nbformat": 4,
 "nbformat_minor": 0
}